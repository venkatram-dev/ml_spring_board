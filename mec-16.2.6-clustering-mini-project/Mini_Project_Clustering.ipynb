{
 "cells": [
  {
   "cell_type": "markdown",
   "metadata": {},
   "source": [
    "# Customer Segmentation using Clustering\n",
    "***\n",
    "This mini-project is based on [this blog post](https://community.alteryx.com/t5/Data-Science/Beginner-s-Guide-to-Customer-Segmentation/ba-p/138442) by yhat. Please feel free to refer to the post for additional information, and solutions."
   ]
  },
  {
   "cell_type": "code",
   "execution_count": 2,
   "metadata": {},
   "outputs": [],
   "source": [
    "%matplotlib inline\n",
    "import pandas as pd\n",
    "import sklearn\n",
    "import matplotlib.pyplot as plt\n",
    "import seaborn as sns\n",
    "\n",
    "# Setup Seaborn\n",
    "sns.set_style(\"whitegrid\")\n",
    "sns.set_context(\"poster\")"
   ]
  },
  {
   "cell_type": "markdown",
   "metadata": {},
   "source": [
    "## Data\n",
    "\n",
    "The dataset contains information on marketing newsletters/e-mail campaigns (e-mail offers sent to customers) and transaction level data from customers. The transactional data shows which offer customers responded to, and what the customer ended up buying. The data is presented as an Excel workbook containing two worksheets. Each worksheet contains a different dataset."
   ]
  },
  {
   "cell_type": "code",
   "execution_count": 3,
   "metadata": {},
   "outputs": [
    {
     "data": {
      "text/html": [
       "<div>\n",
       "<style scoped>\n",
       "    .dataframe tbody tr th:only-of-type {\n",
       "        vertical-align: middle;\n",
       "    }\n",
       "\n",
       "    .dataframe tbody tr th {\n",
       "        vertical-align: top;\n",
       "    }\n",
       "\n",
       "    .dataframe thead th {\n",
       "        text-align: right;\n",
       "    }\n",
       "</style>\n",
       "<table border=\"1\" class=\"dataframe\">\n",
       "  <thead>\n",
       "    <tr style=\"text-align: right;\">\n",
       "      <th></th>\n",
       "      <th>offer_id</th>\n",
       "      <th>campaign</th>\n",
       "      <th>varietal</th>\n",
       "      <th>min_qty</th>\n",
       "      <th>discount</th>\n",
       "      <th>origin</th>\n",
       "      <th>past_peak</th>\n",
       "    </tr>\n",
       "  </thead>\n",
       "  <tbody>\n",
       "    <tr>\n",
       "      <th>0</th>\n",
       "      <td>1</td>\n",
       "      <td>January</td>\n",
       "      <td>Malbec</td>\n",
       "      <td>72</td>\n",
       "      <td>56</td>\n",
       "      <td>France</td>\n",
       "      <td>False</td>\n",
       "    </tr>\n",
       "    <tr>\n",
       "      <th>1</th>\n",
       "      <td>2</td>\n",
       "      <td>January</td>\n",
       "      <td>Pinot Noir</td>\n",
       "      <td>72</td>\n",
       "      <td>17</td>\n",
       "      <td>France</td>\n",
       "      <td>False</td>\n",
       "    </tr>\n",
       "    <tr>\n",
       "      <th>2</th>\n",
       "      <td>3</td>\n",
       "      <td>February</td>\n",
       "      <td>Espumante</td>\n",
       "      <td>144</td>\n",
       "      <td>32</td>\n",
       "      <td>Oregon</td>\n",
       "      <td>True</td>\n",
       "    </tr>\n",
       "    <tr>\n",
       "      <th>3</th>\n",
       "      <td>4</td>\n",
       "      <td>February</td>\n",
       "      <td>Champagne</td>\n",
       "      <td>72</td>\n",
       "      <td>48</td>\n",
       "      <td>France</td>\n",
       "      <td>True</td>\n",
       "    </tr>\n",
       "    <tr>\n",
       "      <th>4</th>\n",
       "      <td>5</td>\n",
       "      <td>February</td>\n",
       "      <td>Cabernet Sauvignon</td>\n",
       "      <td>144</td>\n",
       "      <td>44</td>\n",
       "      <td>New Zealand</td>\n",
       "      <td>True</td>\n",
       "    </tr>\n",
       "  </tbody>\n",
       "</table>\n",
       "</div>"
      ],
      "text/plain": [
       "   offer_id  campaign            varietal  min_qty  discount       origin  \\\n",
       "0         1   January              Malbec       72        56       France   \n",
       "1         2   January          Pinot Noir       72        17       France   \n",
       "2         3  February           Espumante      144        32       Oregon   \n",
       "3         4  February           Champagne       72        48       France   \n",
       "4         5  February  Cabernet Sauvignon      144        44  New Zealand   \n",
       "\n",
       "   past_peak  \n",
       "0      False  \n",
       "1      False  \n",
       "2       True  \n",
       "3       True  \n",
       "4       True  "
      ]
     },
     "execution_count": 3,
     "metadata": {},
     "output_type": "execute_result"
    }
   ],
   "source": [
    "df_offers = pd.read_excel(\"./WineKMC.xlsx\", sheet_name=0)\n",
    "df_offers.columns = [\"offer_id\", \"campaign\", \"varietal\", \"min_qty\", \"discount\", \"origin\", \"past_peak\"]\n",
    "df_offers.head()"
   ]
  },
  {
   "cell_type": "markdown",
   "metadata": {},
   "source": [
    "We see that the first dataset contains information about each offer such as the month it is in effect and several attributes about the wine that the offer refers to: the variety, minimum quantity, discount, country of origin and whether or not it is past peak. The second dataset in the second worksheet contains transactional data -- which offer each customer responded to."
   ]
  },
  {
   "cell_type": "code",
   "execution_count": 4,
   "metadata": {},
   "outputs": [
    {
     "data": {
      "text/html": [
       "<div>\n",
       "<style scoped>\n",
       "    .dataframe tbody tr th:only-of-type {\n",
       "        vertical-align: middle;\n",
       "    }\n",
       "\n",
       "    .dataframe tbody tr th {\n",
       "        vertical-align: top;\n",
       "    }\n",
       "\n",
       "    .dataframe thead th {\n",
       "        text-align: right;\n",
       "    }\n",
       "</style>\n",
       "<table border=\"1\" class=\"dataframe\">\n",
       "  <thead>\n",
       "    <tr style=\"text-align: right;\">\n",
       "      <th></th>\n",
       "      <th>customer_name</th>\n",
       "      <th>offer_id</th>\n",
       "      <th>n</th>\n",
       "    </tr>\n",
       "  </thead>\n",
       "  <tbody>\n",
       "    <tr>\n",
       "      <th>0</th>\n",
       "      <td>Smith</td>\n",
       "      <td>2</td>\n",
       "      <td>1</td>\n",
       "    </tr>\n",
       "    <tr>\n",
       "      <th>1</th>\n",
       "      <td>Smith</td>\n",
       "      <td>24</td>\n",
       "      <td>1</td>\n",
       "    </tr>\n",
       "    <tr>\n",
       "      <th>2</th>\n",
       "      <td>Johnson</td>\n",
       "      <td>17</td>\n",
       "      <td>1</td>\n",
       "    </tr>\n",
       "    <tr>\n",
       "      <th>3</th>\n",
       "      <td>Johnson</td>\n",
       "      <td>24</td>\n",
       "      <td>1</td>\n",
       "    </tr>\n",
       "    <tr>\n",
       "      <th>4</th>\n",
       "      <td>Johnson</td>\n",
       "      <td>26</td>\n",
       "      <td>1</td>\n",
       "    </tr>\n",
       "  </tbody>\n",
       "</table>\n",
       "</div>"
      ],
      "text/plain": [
       "  customer_name  offer_id  n\n",
       "0         Smith         2  1\n",
       "1         Smith        24  1\n",
       "2       Johnson        17  1\n",
       "3       Johnson        24  1\n",
       "4       Johnson        26  1"
      ]
     },
     "execution_count": 4,
     "metadata": {},
     "output_type": "execute_result"
    }
   ],
   "source": [
    "df_transactions = pd.read_excel(\"./WineKMC.xlsx\", sheet_name=1)\n",
    "df_transactions.columns = [\"customer_name\", \"offer_id\"]\n",
    "df_transactions['n'] = 1\n",
    "df_transactions.head()"
   ]
  },
  {
   "cell_type": "markdown",
   "metadata": {},
   "source": [
    "## Data wrangling"
   ]
  },
  {
   "cell_type": "markdown",
   "metadata": {},
   "source": [
    "We're trying to learn more about how our customers behave, so we can use their behavior (whether or not they purchased something based on an offer) as a way to group similar minded customers together. We can then study those groups to look for patterns and trends which can help us formulate future offers.\n",
    "\n",
    "The first thing we need is a way to compare customers. To do this, we're going to create a matrix that contains each customer and a 0/1 indicator for whether or not they responded to a given offer. "
   ]
  },
  {
   "cell_type": "markdown",
   "metadata": {},
   "source": [
    "<div class=\"span5 alert alert-info\">\n",
    "<h3>Checkup Exercise Set I</h3>\n",
    "\n",
    "<p><b>Exercise:</b> Create a data frame where each row has the following columns (Use the pandas [`merge`](http://pandas.pydata.org/pandas-docs/stable/generated/pandas.DataFrame.merge.html) and [`pivot_table`](http://pandas.pydata.org/pandas-docs/stable/generated/pandas.pivot_table.html) functions for this purpose):\n",
    "<ul>\n",
    "<li> customer_name\n",
    "<li> One column for each offer, with a 1 if the customer responded to the offer\n",
    "</ul>\n",
    "<p>Make sure you also deal with any weird values such as `NaN`. Read the documentation to develop your solution.</p>\n",
    "</div>"
   ]
  },
  {
   "cell_type": "code",
   "execution_count": 5,
   "metadata": {
    "scrolled": true
   },
   "outputs": [
    {
     "data": {
      "text/html": [
       "<div>\n",
       "<style scoped>\n",
       "    .dataframe tbody tr th:only-of-type {\n",
       "        vertical-align: middle;\n",
       "    }\n",
       "\n",
       "    .dataframe tbody tr th {\n",
       "        vertical-align: top;\n",
       "    }\n",
       "\n",
       "    .dataframe thead th {\n",
       "        text-align: right;\n",
       "    }\n",
       "</style>\n",
       "<table border=\"1\" class=\"dataframe\">\n",
       "  <thead>\n",
       "    <tr style=\"text-align: right;\">\n",
       "      <th>offer_id</th>\n",
       "      <th>1</th>\n",
       "      <th>2</th>\n",
       "      <th>3</th>\n",
       "      <th>4</th>\n",
       "      <th>5</th>\n",
       "      <th>6</th>\n",
       "      <th>7</th>\n",
       "      <th>8</th>\n",
       "      <th>9</th>\n",
       "      <th>10</th>\n",
       "      <th>...</th>\n",
       "      <th>23</th>\n",
       "      <th>24</th>\n",
       "      <th>25</th>\n",
       "      <th>26</th>\n",
       "      <th>27</th>\n",
       "      <th>28</th>\n",
       "      <th>29</th>\n",
       "      <th>30</th>\n",
       "      <th>31</th>\n",
       "      <th>32</th>\n",
       "    </tr>\n",
       "    <tr>\n",
       "      <th>customer_name</th>\n",
       "      <th></th>\n",
       "      <th></th>\n",
       "      <th></th>\n",
       "      <th></th>\n",
       "      <th></th>\n",
       "      <th></th>\n",
       "      <th></th>\n",
       "      <th></th>\n",
       "      <th></th>\n",
       "      <th></th>\n",
       "      <th></th>\n",
       "      <th></th>\n",
       "      <th></th>\n",
       "      <th></th>\n",
       "      <th></th>\n",
       "      <th></th>\n",
       "      <th></th>\n",
       "      <th></th>\n",
       "      <th></th>\n",
       "      <th></th>\n",
       "      <th></th>\n",
       "    </tr>\n",
       "  </thead>\n",
       "  <tbody>\n",
       "    <tr>\n",
       "      <th>Adams</th>\n",
       "      <td>0</td>\n",
       "      <td>0</td>\n",
       "      <td>0</td>\n",
       "      <td>0</td>\n",
       "      <td>0</td>\n",
       "      <td>0</td>\n",
       "      <td>0</td>\n",
       "      <td>0</td>\n",
       "      <td>0</td>\n",
       "      <td>0</td>\n",
       "      <td>...</td>\n",
       "      <td>0</td>\n",
       "      <td>0</td>\n",
       "      <td>0</td>\n",
       "      <td>0</td>\n",
       "      <td>0</td>\n",
       "      <td>0</td>\n",
       "      <td>1</td>\n",
       "      <td>1</td>\n",
       "      <td>0</td>\n",
       "      <td>0</td>\n",
       "    </tr>\n",
       "    <tr>\n",
       "      <th>Allen</th>\n",
       "      <td>0</td>\n",
       "      <td>0</td>\n",
       "      <td>0</td>\n",
       "      <td>0</td>\n",
       "      <td>0</td>\n",
       "      <td>0</td>\n",
       "      <td>0</td>\n",
       "      <td>0</td>\n",
       "      <td>1</td>\n",
       "      <td>0</td>\n",
       "      <td>...</td>\n",
       "      <td>0</td>\n",
       "      <td>0</td>\n",
       "      <td>0</td>\n",
       "      <td>0</td>\n",
       "      <td>1</td>\n",
       "      <td>0</td>\n",
       "      <td>0</td>\n",
       "      <td>0</td>\n",
       "      <td>0</td>\n",
       "      <td>0</td>\n",
       "    </tr>\n",
       "    <tr>\n",
       "      <th>Anderson</th>\n",
       "      <td>0</td>\n",
       "      <td>0</td>\n",
       "      <td>0</td>\n",
       "      <td>0</td>\n",
       "      <td>0</td>\n",
       "      <td>0</td>\n",
       "      <td>0</td>\n",
       "      <td>0</td>\n",
       "      <td>0</td>\n",
       "      <td>0</td>\n",
       "      <td>...</td>\n",
       "      <td>0</td>\n",
       "      <td>1</td>\n",
       "      <td>0</td>\n",
       "      <td>1</td>\n",
       "      <td>0</td>\n",
       "      <td>0</td>\n",
       "      <td>0</td>\n",
       "      <td>0</td>\n",
       "      <td>0</td>\n",
       "      <td>0</td>\n",
       "    </tr>\n",
       "    <tr>\n",
       "      <th>Bailey</th>\n",
       "      <td>0</td>\n",
       "      <td>0</td>\n",
       "      <td>0</td>\n",
       "      <td>0</td>\n",
       "      <td>0</td>\n",
       "      <td>0</td>\n",
       "      <td>1</td>\n",
       "      <td>0</td>\n",
       "      <td>0</td>\n",
       "      <td>0</td>\n",
       "      <td>...</td>\n",
       "      <td>0</td>\n",
       "      <td>0</td>\n",
       "      <td>0</td>\n",
       "      <td>0</td>\n",
       "      <td>0</td>\n",
       "      <td>0</td>\n",
       "      <td>0</td>\n",
       "      <td>1</td>\n",
       "      <td>0</td>\n",
       "      <td>0</td>\n",
       "    </tr>\n",
       "    <tr>\n",
       "      <th>Baker</th>\n",
       "      <td>0</td>\n",
       "      <td>0</td>\n",
       "      <td>0</td>\n",
       "      <td>0</td>\n",
       "      <td>0</td>\n",
       "      <td>0</td>\n",
       "      <td>1</td>\n",
       "      <td>0</td>\n",
       "      <td>0</td>\n",
       "      <td>1</td>\n",
       "      <td>...</td>\n",
       "      <td>0</td>\n",
       "      <td>0</td>\n",
       "      <td>0</td>\n",
       "      <td>0</td>\n",
       "      <td>0</td>\n",
       "      <td>0</td>\n",
       "      <td>0</td>\n",
       "      <td>0</td>\n",
       "      <td>1</td>\n",
       "      <td>0</td>\n",
       "    </tr>\n",
       "  </tbody>\n",
       "</table>\n",
       "<p>5 rows × 32 columns</p>\n",
       "</div>"
      ],
      "text/plain": [
       "offer_id       1   2   3   4   5   6   7   8   9   10 ...  23  24  25  26  27  \\\n",
       "customer_name                                         ...                       \n",
       "Adams           0   0   0   0   0   0   0   0   0   0 ...   0   0   0   0   0   \n",
       "Allen           0   0   0   0   0   0   0   0   1   0 ...   0   0   0   0   1   \n",
       "Anderson        0   0   0   0   0   0   0   0   0   0 ...   0   1   0   1   0   \n",
       "Bailey          0   0   0   0   0   0   1   0   0   0 ...   0   0   0   0   0   \n",
       "Baker           0   0   0   0   0   0   1   0   0   1 ...   0   0   0   0   0   \n",
       "\n",
       "offer_id       28  29  30  31  32  \n",
       "customer_name                      \n",
       "Adams           0   1   1   0   0  \n",
       "Allen           0   0   0   0   0  \n",
       "Anderson        0   0   0   0   0  \n",
       "Bailey          0   0   1   0   0  \n",
       "Baker           0   0   0   1   0  \n",
       "\n",
       "[5 rows x 32 columns]"
      ]
     },
     "execution_count": 5,
     "metadata": {},
     "output_type": "execute_result"
    }
   ],
   "source": [
    "#your turn\n",
    "\n",
    "cust_transaction_df = df_transactions.merge(df_offers, how='inner', on='offer_id')\n",
    "pivot_cust_df = pd.pivot_table(cust_transaction_df,index=[\"customer_name\"], columns='offer_id', values='n',fill_value=0)\n",
    "pivot_cust_df.head()"
   ]
  },
  {
   "cell_type": "code",
   "execution_count": null,
   "metadata": {},
   "outputs": [],
   "source": []
  },
  {
   "cell_type": "code",
   "execution_count": 6,
   "metadata": {},
   "outputs": [
    {
     "name": "stdout",
     "output_type": "stream",
     "text": [
      "<class 'pandas.core.frame.DataFrame'>\n",
      "Index: 100 entries, Adams to Young\n",
      "Data columns (total 32 columns):\n",
      "1     100 non-null int64\n",
      "2     100 non-null int64\n",
      "3     100 non-null int64\n",
      "4     100 non-null int64\n",
      "5     100 non-null int64\n",
      "6     100 non-null int64\n",
      "7     100 non-null int64\n",
      "8     100 non-null int64\n",
      "9     100 non-null int64\n",
      "10    100 non-null int64\n",
      "11    100 non-null int64\n",
      "12    100 non-null int64\n",
      "13    100 non-null int64\n",
      "14    100 non-null int64\n",
      "15    100 non-null int64\n",
      "16    100 non-null int64\n",
      "17    100 non-null int64\n",
      "18    100 non-null int64\n",
      "19    100 non-null int64\n",
      "20    100 non-null int64\n",
      "21    100 non-null int64\n",
      "22    100 non-null int64\n",
      "23    100 non-null int64\n",
      "24    100 non-null int64\n",
      "25    100 non-null int64\n",
      "26    100 non-null int64\n",
      "27    100 non-null int64\n",
      "28    100 non-null int64\n",
      "29    100 non-null int64\n",
      "30    100 non-null int64\n",
      "31    100 non-null int64\n",
      "32    100 non-null int64\n",
      "dtypes: int64(32)\n",
      "memory usage: 25.8+ KB\n"
     ]
    }
   ],
   "source": [
    "pivot_cust_df.info()"
   ]
  },
  {
   "cell_type": "code",
   "execution_count": 93,
   "metadata": {},
   "outputs": [
    {
     "data": {
      "text/plain": [
       "(100, 32)"
      ]
     },
     "execution_count": 93,
     "metadata": {},
     "output_type": "execute_result"
    }
   ],
   "source": [
    "pivot_cust_df.shape"
   ]
  },
  {
   "cell_type": "markdown",
   "metadata": {},
   "source": [
    "## K-Means Clustering\n",
    "\n",
    "Recall that in K-Means Clustering we want to *maximize* the distance between centroids and *minimize* the distance between data points and the respective centroid for the cluster they are in. True evaluation for unsupervised learning would require labeled data; however, we can use a variety of intuitive metrics to try to pick the number of clusters K. We will introduce two methods: the Elbow method, the Silhouette method and the gap statistic."
   ]
  },
  {
   "cell_type": "markdown",
   "metadata": {},
   "source": [
    "### Choosing K: The Elbow Sum-of-Squares Method\n",
    "\n",
    "The first method looks at the sum-of-squares error in each cluster against $K$. We compute the distance from each data point to the center of the cluster (centroid) to which the data point was assigned. \n",
    "\n",
    "$$SS = \\sum_k \\sum_{x_i \\in C_k} \\sum_{x_j \\in C_k} \\left( x_i - x_j \\right)^2 = \\sum_k \\sum_{x_i \\in C_k} \\left( x_i - \\mu_k \\right)^2$$\n",
    "\n",
    "where $x_i$ is a point, $C_k$ represents cluster $k$ and $\\mu_k$ is the centroid for cluster $k$. We can plot SS vs. $K$ and choose the *elbow point* in the plot as the best value for $K$. The elbow point is the point at which the plot starts descending much more slowly. "
   ]
  },
  {
   "cell_type": "markdown",
   "metadata": {},
   "source": [
    "<div class=\"span5 alert alert-info\">\n",
    "<h3>Checkup Exercise Set II</h3>\n",
    "\n",
    "<p><b>Exercise:</b></p> \n",
    "<ul>\n",
    "<li> What values of $SS$ do you believe represent better clusterings? Why?\n",
    "<li> Create a numpy matrix `x_cols` with only the columns representing the offers (i.e. the 0/1 colums) \n",
    "<li> Write code that applies the [`KMeans`](http://scikit-learn.org/stable/modules/generated/sklearn.cluster.KMeans.html) clustering method from scikit-learn to this matrix. \n",
    "<li> Construct a plot showing $SS$ for each $K$ and pick $K$ using this plot. For simplicity, test $2 \\le K \\le 10$.\n",
    "<li> Make a bar chart showing the number of points in each cluster for k-means under the best $K$.\n",
    "<li> What challenges did you experience using the Elbow method to pick $K$?\n",
    "</ul>\n",
    "</div>"
   ]
  },
  {
   "cell_type": "code",
   "execution_count": null,
   "metadata": {},
   "outputs": [],
   "source": [
    "#What values of  SS  do you believe represent better clusterings? Why?\n",
    "The value of SS should be low for 'better' clusters. If the value of SS is low, \n",
    "that means the points in the cluster are more near the centroid and this would mean data\n",
    "with similar features are clustered together."
   ]
  },
  {
   "cell_type": "code",
   "execution_count": 8,
   "metadata": {},
   "outputs": [
    {
     "name": "stdout",
     "output_type": "stream",
     "text": [
      "<class 'numpy.ndarray'>\n"
     ]
    },
    {
     "data": {
      "text/plain": [
       "array([[0, 0, 0, ..., 1, 0, 0],\n",
       "       [0, 0, 0, ..., 0, 0, 0],\n",
       "       [0, 0, 0, ..., 0, 0, 0],\n",
       "       ...,\n",
       "       [1, 0, 0, ..., 0, 1, 0],\n",
       "       [0, 0, 0, ..., 0, 0, 0],\n",
       "       [0, 0, 0, ..., 0, 1, 1]])"
      ]
     },
     "execution_count": 8,
     "metadata": {},
     "output_type": "execute_result"
    }
   ],
   "source": [
    "# your turn\n",
    "X_cols = pivot_cust_df.values\n",
    "print (type(X_cols))\n",
    "X_cols\n"
   ]
  },
  {
   "cell_type": "code",
   "execution_count": 92,
   "metadata": {},
   "outputs": [
    {
     "data": {
      "text/plain": [
       "(100, 32)"
      ]
     },
     "execution_count": 92,
     "metadata": {},
     "output_type": "execute_result"
    }
   ],
   "source": [
    "X_cols.shape"
   ]
  },
  {
   "cell_type": "code",
   "execution_count": 9,
   "metadata": {},
   "outputs": [
    {
     "data": {
      "text/plain": [
       "KMeans(algorithm='auto', copy_x=True, init='k-means++', max_iter=300,\n",
       "       n_clusters=2, n_init=10, n_jobs=None, precompute_distances='auto',\n",
       "       random_state=None, tol=0.0001, verbose=0)"
      ]
     },
     "execution_count": 9,
     "metadata": {},
     "output_type": "execute_result"
    }
   ],
   "source": [
    "#Write code that applies the [`KMeans`]\n",
    "from sklearn.cluster import KMeans\n",
    "#testing using one cluster\n",
    "kmeans = KMeans(n_clusters=2)\n",
    "kmeans.fit(X_cols)\n"
   ]
  },
  {
   "cell_type": "code",
   "execution_count": 10,
   "metadata": {},
   "outputs": [
    {
     "data": {
      "text/plain": [
       "251.98128898128897"
      ]
     },
     "execution_count": 10,
     "metadata": {},
     "output_type": "execute_result"
    }
   ],
   "source": [
    "kmeans.inertia_"
   ]
  },
  {
   "cell_type": "code",
   "execution_count": 11,
   "metadata": {},
   "outputs": [
    {
     "data": {
      "text/plain": [
       "[251.52777777777774,\n",
       " 227.84369429590018,\n",
       " 214.8799603174603,\n",
       " 205.2344407530454,\n",
       " 194.3897504456328,\n",
       " 186.80885579937302,\n",
       " 179.3409430438842,\n",
       " 172.20051759834365]"
      ]
     },
     "execution_count": 11,
     "metadata": {},
     "output_type": "execute_result"
    }
   ],
   "source": [
    "#trying for k between 2 to 10\n",
    "ss = []\n",
    "for i in range(2,10):\n",
    "    kmeans = KMeans(n_clusters=i)\n",
    "    kmeans.fit_transform(X_cols)\n",
    "    ss.append(kmeans.inertia_)\n",
    "ss\n"
   ]
  },
  {
   "cell_type": "code",
   "execution_count": 12,
   "metadata": {},
   "outputs": [
    {
     "data": {
      "image/png": "[encoded data removed]",
      "text/plain": [
       "<Figure size 432x288 with 1 Axes>"
      ]
     },
     "metadata": {
      "needs_background": "light"
     },
     "output_type": "display_data"
    }
   ],
   "source": [
    "#Construct a plot showing  SS  for each  K  and pick  K  using this plot. For simplicity, test  2≤K≤10\n",
    "plt.plot(range(2,10),ss)\n",
    "plt.xticks(range(2,10,1))\n",
    "plt.xlabel('number of clusters')\n",
    "plt.ylabel('SS')\n",
    "plt.show()\n",
    "\n"
   ]
  },
  {
   "cell_type": "code",
   "execution_count": null,
   "metadata": {},
   "outputs": [],
   "source": [
    "Based on above chart,elbow is at K=3 or K=4, We can also look at knee locator package \n",
    "and choose K=4 as best pick"
   ]
  },
  {
   "cell_type": "code",
   "execution_count": 155,
   "metadata": {},
   "outputs": [
    {
     "data": {
      "text/plain": [
       "4"
      ]
     },
     "execution_count": 155,
     "metadata": {},
     "output_type": "execute_result"
    }
   ],
   "source": [
    "#alternate way to find k\n",
    "#this shows 8, but 4 clusters looks better as per the above graph\n",
    "import kneed\n",
    "k_locator = kneed.KneeLocator(range(2, 10), ss, curve=\"convex\", direction=\"decreasing\")\n",
    "k_locator.elbow"
   ]
  },
  {
   "cell_type": "code",
   "execution_count": 13,
   "metadata": {},
   "outputs": [
    {
     "data": {
      "text/plain": [
       "array([[1.82953948, 1.02761861, 1.93309133, 2.18385686],\n",
       "       [1.37189593, 1.86975934, 1.68585446, 1.94145069],\n",
       "       [1.53206224, 1.86975934, 1.77704663, 0.73379939],\n",
       "       [1.47009122, 1.12071406, 1.68585446, 1.94145069],\n",
       "       [1.73158237, 2.12978872, 2.24780595, 2.40192231],\n",
       "       [1.69081123, 2.34435492, 2.        , 2.40192231],\n",
       "       [2.06256914, 2.34435492, 2.20047842, 0.83205029],\n",
       "       [1.45418588, 1.15585466, 1.80642129, 1.94145069],\n",
       "       [1.83588413, 2.14848784, 1.68585446, 2.40192231],\n",
       "       [1.77796743, 0.98792712, 1.93309133, 2.18385686],\n",
       "       [2.11269822, 2.26627448, 1.76217569, 2.60177454],\n",
       "       [1.80393776, 2.12037732, 1.96012889, 0.87705802],\n",
       "       [2.03989416, 1.22311079, 2.17642875, 2.40192231],\n",
       "       [1.87350084, 2.32723011, 1.65434038, 2.40192231],\n",
       "       [1.57694312, 1.48862353, 1.21395396, 1.94145069],\n",
       "       [1.53206224, 1.86975934, 1.77704663, 0.73379939],\n",
       "       [1.95846542, 2.34435492, 2.0261449 , 2.40192231],\n",
       "       [2.06256914, 2.34435492, 2.20047842, 0.83205029],\n",
       "       [1.57694312, 0.96747093, 1.65434038, 1.94145069],\n",
       "       [1.64196587, 2.12037732, 1.70139262, 2.18385686],\n",
       "       [1.94655469, 1.04690019, 2.15211035, 2.40192231],\n",
       "       [1.32006195, 1.61740533, 1.80642129, 1.94145069],\n",
       "       [1.26610768, 1.86975934, 1.52177182, 1.94145069],\n",
       "       [2.46807633, 2.67132926, 1.87784871, 2.82842712],\n",
       "       [1.57694312, 1.86975934, 1.86378223, 0.91986621],\n",
       "       [2.04558647, 2.54872517, 1.90567021, 2.60177454],\n",
       "       [1.45418588, 1.86975934, 1.65434038, 1.94145069],\n",
       "       [2.03989416, 2.34435492, 1.77704663, 2.40192231],\n",
       "       [1.2843443 , 1.86975934, 1.58943883, 1.94145069],\n",
       "       [1.7516121 , 2.12037732, 1.93309133, 1.83973242],\n",
       "       [1.07757515, 1.23935467, 1.57279503, 1.66410059],\n",
       "       [1.77141536, 1.93287351, 2.29415734, 2.40192231],\n",
       "       [1.40539023, 1.86975934, 1.02597835, 1.94145069],\n",
       "       [2.05126298, 2.55656019, 2.38415824, 2.78733399],\n",
       "       [1.5621261 , 1.46150607, 1.71679015, 1.94145069],\n",
       "       [1.99377072, 1.40570267, 2.17642875, 2.40192231],\n",
       "       [1.67005245, 2.12037732, 1.39548143, 2.18385686],\n",
       "       [2.18839557, 1.27121989, 2.3730948 , 2.60177454],\n",
       "       [2.145467  , 2.54872517, 1.63835604, 2.44948974],\n",
       "       [2.15627927, 1.41985915, 2.39517058, 2.60177454],\n",
       "       [1.53206224, 1.86975934, 1.77704663, 0.73379939],\n",
       "       [1.82953948, 2.12037732, 2.03909165, 0.67936622],\n",
       "       [1.05577297, 1.27121989, 1.53896753, 1.66410059],\n",
       "       [1.77141536, 2.34435492, 2.10262993, 2.40192231],\n",
       "       [2.00540104, 1.37695316, 2.31698534, 2.40192231],\n",
       "       [1.87969711, 2.54872517, 2.13984751, 2.60177454],\n",
       "       [1.67005245, 1.17303026, 1.93309133, 2.18385686],\n",
       "       [1.61339043, 1.88042548, 2.09007681, 2.18385686],\n",
       "       [2.15627927, 2.54872517, 1.96012889, 2.60177454],\n",
       "       [1.82953948, 2.10142809, 1.53896753, 2.        ],\n",
       "       [1.77796743, 2.10142809, 1.87784871, 2.18385686],\n",
       "       [2.23049808, 2.91478987, 2.46020966, 2.9612887 ],\n",
       "       [1.5013965 , 1.86975934, 1.55597321, 1.73205081],\n",
       "       [1.57694312, 1.86975934, 1.86378223, 0.91986621],\n",
       "       [1.98207216, 2.37823464, 2.40613252, 2.78733399],\n",
       "       [1.45418588, 1.15585466, 1.80642129, 1.94145069],\n",
       "       [1.82953948, 2.12037732, 2.03909165, 0.67936622],\n",
       "       [1.40539023, 1.59248234, 1.83532587, 1.94145069],\n",
       "       [1.53206224, 1.15585466, 1.68585446, 1.94145069],\n",
       "       [1.71809949, 2.14848784, 2.07744783, 2.40192231],\n",
       "       [1.2843443 , 1.86975934, 1.74717818, 1.94145069],\n",
       "       [1.05577297, 1.27121989, 1.53896753, 1.66410059],\n",
       "       [2.16703759, 2.28385639, 1.96012889, 2.60177454],\n",
       "       [1.53206224, 1.15585466, 1.68585446, 1.94145069],\n",
       "       [1.99377072, 1.08443534, 2.15211035, 2.40192231],\n",
       "       [2.28712388, 2.73788239, 2.42790791, 2.36968028],\n",
       "       [1.57694312, 1.86975934, 1.86378223, 0.91986621],\n",
       "       [1.18056187, 1.57987341, 1.50437957, 1.66410059],\n",
       "       [1.79748036, 2.05329004, 1.62221421, 2.40192231],\n",
       "       [1.1199069 , 1.57987341, 1.39548143, 1.66410059],\n",
       "       [1.47009122, 1.86975934, 1.68585446, 1.94145069],\n",
       "       [1.43810464, 1.86975934, 1.68585446, 1.94145069],\n",
       "       [1.4936317 , 2.12037732, 1.79179416, 2.18385686],\n",
       "       [1.42184152, 1.28685664, 1.86378223, 1.94145069],\n",
       "       [0.93920095, 1.57987341, 1.4327008 , 1.66410059],\n",
       "       [1.47009122, 1.12071406, 1.83532587, 1.94145069],\n",
       "       [1.5013965 , 1.86975934, 1.68585446, 1.27097782],\n",
       "       [2.15087993, 2.37823464, 2.49209276, 2.78733399],\n",
       "       [1.47009122, 1.61740533, 1.86378223, 1.94145069],\n",
       "       [1.16069579, 1.57987341, 1.46897745, 1.17669681],\n",
       "       [2.43964462, 2.91478987, 2.28265773, 2.71746488],\n",
       "       [2.80336273, 3.23975308, 2.41704474, 3.06343196],\n",
       "       [1.5989112 , 2.12037732, 1.96012889, 2.18385686],\n",
       "       [1.5471672 , 1.86975934, 1.77704663, 1.07417231],\n",
       "       [1.76483896, 1.02761861, 1.90567021, 2.18385686],\n",
       "       [1.72485411, 1.50199867, 2.09007681, 2.18385686],\n",
       "       [2.00540104, 1.04690019, 2.17642875, 2.40192231],\n",
       "       [2.32744112, 2.73788239, 1.89181061, 2.52677965],\n",
       "       [2.01696429, 2.05329004, 1.89181061, 2.40192231],\n",
       "       [1.05577297, 1.27121989, 1.53896753, 1.66410059],\n",
       "       [1.63486883, 2.34435492, 2.07744783, 2.40192231],\n",
       "       [1.53206224, 1.15585466, 1.83532587, 1.94145069],\n",
       "       [1.07757515, 1.57987341, 1.39548143, 1.66410059],\n",
       "       [1.47009122, 1.12071406, 1.83532587, 1.94145069],\n",
       "       [1.910377  , 2.05329004, 1.71679015, 2.40192231],\n",
       "       [1.4936317 , 1.90157829, 1.73205081, 2.18385686],\n",
       "       [1.45418588, 1.15585466, 1.65434038, 1.94145069],\n",
       "       [1.78449545, 2.34435492, 1.97350876, 2.40192231],\n",
       "       [1.75823797, 2.34435492, 2.17642875, 2.40192231],\n",
       "       [2.08499753, 2.73788239, 2.22426806, 2.78733399]])"
      ]
     },
     "execution_count": 13,
     "metadata": {},
     "output_type": "execute_result"
    }
   ],
   "source": [
    "#Make a bar chart showing the number of points in each cluster for k-means under the best  K .\n",
    "\n",
    "k_best = 4\n",
    "kmeans_best = KMeans(n_clusters=4)\n",
    "kmeans_best.fit_transform(X_cols)\n",
    "\n"
   ]
  },
  {
   "cell_type": "code",
   "execution_count": 14,
   "metadata": {},
   "outputs": [
    {
     "data": {
      "text/html": [
       "<div>\n",
       "<style scoped>\n",
       "    .dataframe tbody tr th:only-of-type {\n",
       "        vertical-align: middle;\n",
       "    }\n",
       "\n",
       "    .dataframe tbody tr th {\n",
       "        vertical-align: top;\n",
       "    }\n",
       "\n",
       "    .dataframe thead th {\n",
       "        text-align: right;\n",
       "    }\n",
       "</style>\n",
       "<table border=\"1\" class=\"dataframe\">\n",
       "  <thead>\n",
       "    <tr style=\"text-align: right;\">\n",
       "      <th></th>\n",
       "      <th>0</th>\n",
       "      <th>1</th>\n",
       "      <th>2</th>\n",
       "      <th>3</th>\n",
       "      <th>4</th>\n",
       "      <th>5</th>\n",
       "      <th>6</th>\n",
       "      <th>7</th>\n",
       "      <th>8</th>\n",
       "      <th>9</th>\n",
       "      <th>...</th>\n",
       "      <th>23</th>\n",
       "      <th>24</th>\n",
       "      <th>25</th>\n",
       "      <th>26</th>\n",
       "      <th>27</th>\n",
       "      <th>28</th>\n",
       "      <th>29</th>\n",
       "      <th>30</th>\n",
       "      <th>31</th>\n",
       "      <th>cluster_num</th>\n",
       "    </tr>\n",
       "  </thead>\n",
       "  <tbody>\n",
       "    <tr>\n",
       "      <th>0</th>\n",
       "      <td>0</td>\n",
       "      <td>0</td>\n",
       "      <td>0</td>\n",
       "      <td>0</td>\n",
       "      <td>0</td>\n",
       "      <td>0</td>\n",
       "      <td>0</td>\n",
       "      <td>0</td>\n",
       "      <td>0</td>\n",
       "      <td>0</td>\n",
       "      <td>...</td>\n",
       "      <td>0</td>\n",
       "      <td>0</td>\n",
       "      <td>0</td>\n",
       "      <td>0</td>\n",
       "      <td>0</td>\n",
       "      <td>1</td>\n",
       "      <td>1</td>\n",
       "      <td>0</td>\n",
       "      <td>0</td>\n",
       "      <td>1</td>\n",
       "    </tr>\n",
       "    <tr>\n",
       "      <th>1</th>\n",
       "      <td>0</td>\n",
       "      <td>0</td>\n",
       "      <td>0</td>\n",
       "      <td>0</td>\n",
       "      <td>0</td>\n",
       "      <td>0</td>\n",
       "      <td>0</td>\n",
       "      <td>0</td>\n",
       "      <td>1</td>\n",
       "      <td>0</td>\n",
       "      <td>...</td>\n",
       "      <td>0</td>\n",
       "      <td>0</td>\n",
       "      <td>0</td>\n",
       "      <td>1</td>\n",
       "      <td>0</td>\n",
       "      <td>0</td>\n",
       "      <td>0</td>\n",
       "      <td>0</td>\n",
       "      <td>0</td>\n",
       "      <td>0</td>\n",
       "    </tr>\n",
       "    <tr>\n",
       "      <th>2</th>\n",
       "      <td>0</td>\n",
       "      <td>0</td>\n",
       "      <td>0</td>\n",
       "      <td>0</td>\n",
       "      <td>0</td>\n",
       "      <td>0</td>\n",
       "      <td>0</td>\n",
       "      <td>0</td>\n",
       "      <td>0</td>\n",
       "      <td>0</td>\n",
       "      <td>...</td>\n",
       "      <td>1</td>\n",
       "      <td>0</td>\n",
       "      <td>1</td>\n",
       "      <td>0</td>\n",
       "      <td>0</td>\n",
       "      <td>0</td>\n",
       "      <td>0</td>\n",
       "      <td>0</td>\n",
       "      <td>0</td>\n",
       "      <td>3</td>\n",
       "    </tr>\n",
       "    <tr>\n",
       "      <th>3</th>\n",
       "      <td>0</td>\n",
       "      <td>0</td>\n",
       "      <td>0</td>\n",
       "      <td>0</td>\n",
       "      <td>0</td>\n",
       "      <td>0</td>\n",
       "      <td>1</td>\n",
       "      <td>0</td>\n",
       "      <td>0</td>\n",
       "      <td>0</td>\n",
       "      <td>...</td>\n",
       "      <td>0</td>\n",
       "      <td>0</td>\n",
       "      <td>0</td>\n",
       "      <td>0</td>\n",
       "      <td>0</td>\n",
       "      <td>0</td>\n",
       "      <td>1</td>\n",
       "      <td>0</td>\n",
       "      <td>0</td>\n",
       "      <td>1</td>\n",
       "    </tr>\n",
       "    <tr>\n",
       "      <th>4</th>\n",
       "      <td>0</td>\n",
       "      <td>0</td>\n",
       "      <td>0</td>\n",
       "      <td>0</td>\n",
       "      <td>0</td>\n",
       "      <td>0</td>\n",
       "      <td>1</td>\n",
       "      <td>0</td>\n",
       "      <td>0</td>\n",
       "      <td>1</td>\n",
       "      <td>...</td>\n",
       "      <td>0</td>\n",
       "      <td>0</td>\n",
       "      <td>0</td>\n",
       "      <td>0</td>\n",
       "      <td>0</td>\n",
       "      <td>0</td>\n",
       "      <td>0</td>\n",
       "      <td>1</td>\n",
       "      <td>0</td>\n",
       "      <td>0</td>\n",
       "    </tr>\n",
       "  </tbody>\n",
       "</table>\n",
       "<p>5 rows × 33 columns</p>\n",
       "</div>"
      ],
      "text/plain": [
       "   0  1  2  3  4  5  6  7  8  9     ...       23  24  25  26  27  28  29  30  \\\n",
       "0  0  0  0  0  0  0  0  0  0  0     ...        0   0   0   0   0   1   1   0   \n",
       "1  0  0  0  0  0  0  0  0  1  0     ...        0   0   0   1   0   0   0   0   \n",
       "2  0  0  0  0  0  0  0  0  0  0     ...        1   0   1   0   0   0   0   0   \n",
       "3  0  0  0  0  0  0  1  0  0  0     ...        0   0   0   0   0   0   1   0   \n",
       "4  0  0  0  0  0  0  1  0  0  1     ...        0   0   0   0   0   0   0   1   \n",
       "\n",
       "   31  cluster_num  \n",
       "0   0            1  \n",
       "1   0            0  \n",
       "2   0            3  \n",
       "3   0            1  \n",
       "4   0            0  \n",
       "\n",
       "[5 rows x 33 columns]"
      ]
     },
     "execution_count": 14,
     "metadata": {},
     "output_type": "execute_result"
    }
   ],
   "source": [
    "#predict clusters\n",
    "df_with_cluster = pd.DataFrame(X_cols)\n",
    "type(df_with_cluster)\n",
    "df_with_cluster['cluster_num'] = kmeans_best.predict(X_cols)\n",
    "df_with_cluster.head()\n",
    "\n"
   ]
  },
  {
   "cell_type": "code",
   "execution_count": 158,
   "metadata": {},
   "outputs": [
    {
     "data": {
      "text/plain": [
       "1    35\n",
       "0    35\n",
       "3    16\n",
       "2    14\n",
       "Name: cluster_num, dtype: int64"
      ]
     },
     "execution_count": 158,
     "metadata": {},
     "output_type": "execute_result"
    }
   ],
   "source": [
    "df_with_cluster.cluster_num.value_counts()"
   ]
  },
  {
   "cell_type": "code",
   "execution_count": 159,
   "metadata": {},
   "outputs": [
    {
     "data": {
      "text/plain": [
       "<matplotlib.axes._subplots.AxesSubplot at 0x7fa6eeae4b70>"
      ]
     },
     "execution_count": 159,
     "metadata": {},
     "output_type": "execute_result"
    },
    {
     "data": {
      "image/png": "[encoded data removed]",
      "text/plain": [
       "<Figure size 432x288 with 1 Axes>"
      ]
     },
     "metadata": {
      "needs_background": "light"
     },
     "output_type": "display_data"
    }
   ],
   "source": [
    "#Make a bar chart showing the number of points in each cluster for k-means under the best  K .\n",
    "\n",
    "df_with_cluster.cluster_num.value_counts().plot(kind='bar')"
   ]
  },
  {
   "cell_type": "code",
   "execution_count": null,
   "metadata": {},
   "outputs": [],
   "source": [
    "What challenges did you experience using the Elbow method to pick  K ?\n",
    "There is little bit of confusion when finding the elbow.\n",
    "As per the chart between SS and k, there seem to be 3 elbows at 3,4,8.\n",
    "Also, kneed package showed k=4 is the elbow.\n",
    "It is not so clear about what should be the value of k"
   ]
  },
  {
   "cell_type": "markdown",
   "metadata": {},
   "source": [
    "### Choosing K: The Silhouette Method\n",
    "\n",
    "There exists another method that measures how well each datapoint $x_i$ \"fits\" its assigned cluster *and also* how poorly it fits into other clusters. This is a different way of looking at the same objective. Denote $a_{x_i}$ as the *average* distance from $x_i$ to all other points within its own cluster $k$. The lower the value, the better. On the other hand $b_{x_i}$ is the minimum average distance from $x_i$ to points in a different cluster, minimized over clusters. That is, compute separately for each cluster the average distance from $x_i$ to the points within that cluster, and then take the minimum. The silhouette $s(x_i)$ is defined as\n",
    "\n",
    "$$s(x_i) = \\frac{b_{x_i} - a_{x_i}}{\\max{\\left( a_{x_i}, b_{x_i}\\right)}}$$\n",
    "\n",
    "The silhouette score is computed on *every datapoint in every cluster*. The silhouette score ranges from -1 (a poor clustering) to +1 (a very dense clustering) with 0 denoting the situation where clusters overlap. Some criteria for the silhouette coefficient is provided in the table below."
   ]
  },
  {
   "cell_type": "markdown",
   "metadata": {},
   "source": [
    "<pre>\n",
    "\n",
    "| Range       | Interpretation                                |\n",
    "|-------------|-----------------------------------------------|\n",
    "| 0.71 - 1.0  | A strong structure has been found.            |\n",
    "| 0.51 - 0.7  | A reasonable structure has been found.        |\n",
    "| 0.26 - 0.5  | The structure is weak and could be artificial.|\n",
    "| < 0.25      | No substantial structure has been found.      |\n",
    "\n",
    "</pre>\n",
    "Source: http://www.stat.berkeley.edu/~spector/s133/Clus.html"
   ]
  },
  {
   "cell_type": "markdown",
   "metadata": {},
   "source": [
    "Fortunately, scikit-learn provides a function to compute this for us (phew!) called [`sklearn.metrics.silhouette_score`](http://scikit-learn.org/stable/modules/generated/sklearn.metrics.silhouette_score.html). Take a look at [this article](http://scikit-learn.org/stable/auto_examples/cluster/plot_kmeans_silhouette_analysis.html) on picking $K$ in scikit-learn, as it will help you in the next exercise set."
   ]
  },
  {
   "cell_type": "markdown",
   "metadata": {},
   "source": [
    "<div class=\"span5 alert alert-info\">\n",
    "<h3>Checkup Exercise Set III</h3>\n",
    "\n",
    "<p><b>Exercise:</b> Using the documentation for the `silhouette_score` function above, construct a series of silhouette plots like the ones in the article linked above.</p>\n",
    "\n",
    "<p><b>Exercise:</b> Compute the average silhouette score for each $K$ and plot it. What $K$ does the plot suggest we should choose? Does it differ from what we found using the Elbow method?</p>\n",
    "</div>"
   ]
  },
  {
   "cell_type": "code",
   "execution_count": 162,
   "metadata": {},
   "outputs": [
    {
     "data": {
      "text/plain": [
       "[0.08585485136055487,\n",
       " 0.12133064283950247,\n",
       " 0.12913398866415998,\n",
       " 0.12874813770742383,\n",
       " 0.11911273371907394,\n",
       " 0.13276277508293485,\n",
       " 0.13126231345111308,\n",
       " 0.13961565352843283]"
      ]
     },
     "execution_count": 162,
     "metadata": {},
     "output_type": "execute_result"
    }
   ],
   "source": [
    "# Your turn.\n",
    "from sklearn.metrics import silhouette_score\n",
    "silhouette_score_list = []\n",
    "\n",
    "for i in range(2, 10):\n",
    "    kmeans_silhouette = KMeans(n_clusters=i)\n",
    "    kmeans_silhouette.fit_transform(X_cols)\n",
    "    sc = silhouette_score(X_cols, kmeans_silhouette.labels_)\n",
    "    silhouette_score_list.append(sc)\n",
    "\n",
    "silhouette_score_list"
   ]
  },
  {
   "cell_type": "code",
   "execution_count": 163,
   "metadata": {},
   "outputs": [
    {
     "data": {
      "image/png": "[encoded data removed]",
      "text/plain": [
       "<Figure size 432x288 with 1 Axes>"
      ]
     },
     "metadata": {
      "needs_background": "light"
     },
     "output_type": "display_data"
    }
   ],
   "source": [
    "#Compute the average silhouette score for each  K  and plot it.\n",
    "plt.plot(range(2,10),silhouette_score_list)\n",
    "plt.xticks(range(2,10,1))\n",
    "plt.xlabel('number of clusters')\n",
    "plt.ylabel('silhouette_score')\n",
    "plt.show()"
   ]
  },
  {
   "cell_type": "code",
   "execution_count": null,
   "metadata": {},
   "outputs": [],
   "source": [
    "#What  K  does the plot suggest we should choose? Does it differ from what we found using the Elbow method?\n",
    "The silhouette score for all cluster options is < 0.25. That would mean, No substantial structure has been found. \n",
    "(Leaving aside  more than 7 clusters) the silhouette value is highest between 4 and 5.\n",
    "This suggest to choose 4 or 5 for k"
   ]
  },
  {
   "cell_type": "markdown",
   "metadata": {},
   "source": [
    "### Choosing $K$: The Gap Statistic\n",
    "\n",
    "There is one last method worth covering for picking $K$, the so-called Gap statistic. The computation for the gap statistic builds on the sum-of-squares established in the Elbow method discussion, and compares it to the sum-of-squares of a \"null distribution,\" that is, a random set of points with no clustering. The estimate for the optimal number of clusters $K$ is the value for which $\\log{SS}$ falls the farthest below that of the reference distribution:\n",
    "\n",
    "$$G_k = E_n^*\\{\\log SS_k\\} - \\log SS_k$$\n",
    "\n",
    "In other words a good clustering yields a much larger difference between the reference distribution and the clustered data. The reference distribution is a Monte Carlo (randomization) procedure that constructs $B$ random distributions of points within the bounding box (limits) of the original data and then applies K-means to this synthetic distribution of data points.. $E_n^*\\{\\log SS_k\\}$ is just the average $SS_k$ over all $B$ replicates. We then compute the standard deviation $\\sigma_{SS}$ of the values of $SS_k$ computed from the $B$ replicates of the reference distribution and compute\n",
    "\n",
    "$$s_k = \\sqrt{1+1/B}\\sigma_{SS}$$\n",
    "\n",
    "Finally, we choose $K=k$ such that $G_k \\geq G_{k+1} - s_{k+1}$."
   ]
  },
  {
   "cell_type": "markdown",
   "metadata": {},
   "source": [
    "### Aside: Choosing $K$ when we Have Labels\n",
    "\n",
    "Unsupervised learning expects that we do not have the labels. In some situations, we may wish to cluster data that is labeled. Computing the optimal number of clusters is much easier if we have access to labels. There are several methods available. We will not go into the math or details since it is rare to have access to the labels, but we provide the names and references of these measures.\n",
    "\n",
    "* Adjusted Rand Index\n",
    "* Mutual Information\n",
    "* V-Measure\n",
    "* Fowlkes–Mallows index\n",
    "\n",
    "See [this article](http://scikit-learn.org/stable/modules/clustering.html) for more information about these metrics."
   ]
  },
  {
   "cell_type": "markdown",
   "metadata": {},
   "source": [
    "## Visualizing Clusters using PCA\n",
    "\n",
    "How do we visualize clusters? If we only had two features, we could likely plot the data as is. But we have 100 data points each containing 32 features (dimensions). Principal Component Analysis (PCA) will help us reduce the dimensionality of our data from 32 to something lower. For a visualization on the coordinate plane, we will use 2 dimensions. In this exercise, we're going to use it to transform our multi-dimensional dataset into a 2 dimensional dataset.\n",
    "\n",
    "This is only one use of PCA for dimension reduction. We can also use PCA when we want to perform regression but we have a set of highly correlated variables. PCA untangles these correlations into a smaller number of features/predictors all of which are orthogonal (not correlated). PCA is also used to reduce a large set of variables into a much smaller one."
   ]
  },
  {
   "cell_type": "markdown",
   "metadata": {},
   "source": [
    "<div class=\"span5 alert alert-info\">\n",
    "<h3>Checkup Exercise Set IV</h3>\n",
    "\n",
    "<p><b>Exercise:</b> Use PCA to plot your clusters:</p>\n",
    "\n",
    "<ul>\n",
    "<li> Use scikit-learn's [`PCA`](http://scikit-learn.org/stable/modules/generated/sklearn.decomposition.PCA.html) function to reduce the dimensionality of your clustering data to 2 components\n",
    "<li> Create a data frame with the following fields:\n",
    "  <ul>\n",
    "  <li> customer name\n",
    "  <li> cluster id the customer belongs to\n",
    "  <li> the two PCA components (label them `x` and `y`)\n",
    "  </ul>\n",
    "<li> Plot a scatterplot of the `x` vs `y` columns\n",
    "<li> Color-code points differently based on cluster ID\n",
    "<li> How do the clusters look? \n",
    "<li> Based on what you see, what seems to be the best value for $K$? Moreover, which method of choosing $K$ seems to have produced the optimal result visually?\n",
    "</ul>\n",
    "\n",
    "<p><b>Exercise:</b> Now look at both the original raw data about the offers and transactions and look at the fitted clusters. Tell a story about the clusters in context of the original data. For example, do the clusters correspond to wine variants or something else interesting?</p>\n",
    "</div>"
   ]
  },
  {
   "cell_type": "code",
   "execution_count": 121,
   "metadata": {},
   "outputs": [],
   "source": [
    "#your turn\n",
    "# reduce the dimensionality of your clustering data to 2 components\n",
    "from sklearn.decomposition import PCA\n",
    "pca = PCA(n_components=2)\n",
    "pca.fit(X_cols)\n",
    "X_pca = pca.transform(X_cols)\n"
   ]
  },
  {
   "cell_type": "code",
   "execution_count": 122,
   "metadata": {},
   "outputs": [
    {
     "data": {
      "text/plain": [
       "(100, 2)"
      ]
     },
     "execution_count": 122,
     "metadata": {},
     "output_type": "execute_result"
    }
   ],
   "source": [
    "X_pca.shape"
   ]
  },
  {
   "cell_type": "code",
   "execution_count": 108,
   "metadata": {},
   "outputs": [
    {
     "data": {
      "text/plain": [
       "(100, 32)"
      ]
     },
     "execution_count": 108,
     "metadata": {},
     "output_type": "execute_result"
    }
   ],
   "source": [
    "X_cols.shape"
   ]
  },
  {
   "cell_type": "code",
   "execution_count": 115,
   "metadata": {},
   "outputs": [
    {
     "data": {
      "text/plain": [
       "array([-1.61685077e-01, -1.30215063e-01, -1.84050593e-02, -1.75254977e-01,\n",
       "       -6.71199120e-02, -1.53633007e-01,  3.43672871e-01,  3.32419546e-01,\n",
       "       -1.36167969e-01, -5.26447239e-02, -1.61805935e-01, -2.56376321e-02,\n",
       "        1.80935307e-01, -1.33907190e-01, -1.14720579e-01, -3.22645660e-02,\n",
       "       -6.96938803e-02,  2.71425446e-01,  1.33030665e-04, -9.33371491e-02,\n",
       "       -9.54554593e-03, -2.20113686e-01, -7.94434100e-02, -1.18974084e-01,\n",
       "       -5.22674866e-02, -2.22019827e-01, -1.00333136e-01, -3.91817202e-02,\n",
       "        3.80350120e-01,  4.06842531e-01, -1.51939820e-01, -5.43808433e-02])"
      ]
     },
     "execution_count": 115,
     "metadata": {},
     "output_type": "execute_result"
    }
   ],
   "source": [
    "pca.components_[0]"
   ]
  },
  {
   "cell_type": "code",
   "execution_count": 99,
   "metadata": {},
   "outputs": [
    {
     "data": {
      "text/html": [
       "<div>\n",
       "<style scoped>\n",
       "    .dataframe tbody tr th:only-of-type {\n",
       "        vertical-align: middle;\n",
       "    }\n",
       "\n",
       "    .dataframe tbody tr th {\n",
       "        vertical-align: top;\n",
       "    }\n",
       "\n",
       "    .dataframe thead th {\n",
       "        text-align: right;\n",
       "    }\n",
       "</style>\n",
       "<table border=\"1\" class=\"dataframe\">\n",
       "  <thead>\n",
       "    <tr style=\"text-align: right;\">\n",
       "      <th>offer_id</th>\n",
       "      <th>1</th>\n",
       "      <th>2</th>\n",
       "      <th>3</th>\n",
       "      <th>4</th>\n",
       "      <th>5</th>\n",
       "      <th>6</th>\n",
       "      <th>7</th>\n",
       "      <th>8</th>\n",
       "      <th>9</th>\n",
       "      <th>10</th>\n",
       "      <th>...</th>\n",
       "      <th>23</th>\n",
       "      <th>24</th>\n",
       "      <th>25</th>\n",
       "      <th>26</th>\n",
       "      <th>27</th>\n",
       "      <th>28</th>\n",
       "      <th>29</th>\n",
       "      <th>30</th>\n",
       "      <th>31</th>\n",
       "      <th>32</th>\n",
       "    </tr>\n",
       "    <tr>\n",
       "      <th>customer_name</th>\n",
       "      <th></th>\n",
       "      <th></th>\n",
       "      <th></th>\n",
       "      <th></th>\n",
       "      <th></th>\n",
       "      <th></th>\n",
       "      <th></th>\n",
       "      <th></th>\n",
       "      <th></th>\n",
       "      <th></th>\n",
       "      <th></th>\n",
       "      <th></th>\n",
       "      <th></th>\n",
       "      <th></th>\n",
       "      <th></th>\n",
       "      <th></th>\n",
       "      <th></th>\n",
       "      <th></th>\n",
       "      <th></th>\n",
       "      <th></th>\n",
       "      <th></th>\n",
       "    </tr>\n",
       "  </thead>\n",
       "  <tbody>\n",
       "    <tr>\n",
       "      <th>Adams</th>\n",
       "      <td>0</td>\n",
       "      <td>0</td>\n",
       "      <td>0</td>\n",
       "      <td>0</td>\n",
       "      <td>0</td>\n",
       "      <td>0</td>\n",
       "      <td>0</td>\n",
       "      <td>0</td>\n",
       "      <td>0</td>\n",
       "      <td>0</td>\n",
       "      <td>...</td>\n",
       "      <td>0</td>\n",
       "      <td>0</td>\n",
       "      <td>0</td>\n",
       "      <td>0</td>\n",
       "      <td>0</td>\n",
       "      <td>0</td>\n",
       "      <td>1</td>\n",
       "      <td>1</td>\n",
       "      <td>0</td>\n",
       "      <td>0</td>\n",
       "    </tr>\n",
       "    <tr>\n",
       "      <th>Allen</th>\n",
       "      <td>0</td>\n",
       "      <td>0</td>\n",
       "      <td>0</td>\n",
       "      <td>0</td>\n",
       "      <td>0</td>\n",
       "      <td>0</td>\n",
       "      <td>0</td>\n",
       "      <td>0</td>\n",
       "      <td>1</td>\n",
       "      <td>0</td>\n",
       "      <td>...</td>\n",
       "      <td>0</td>\n",
       "      <td>0</td>\n",
       "      <td>0</td>\n",
       "      <td>0</td>\n",
       "      <td>1</td>\n",
       "      <td>0</td>\n",
       "      <td>0</td>\n",
       "      <td>0</td>\n",
       "      <td>0</td>\n",
       "      <td>0</td>\n",
       "    </tr>\n",
       "    <tr>\n",
       "      <th>Anderson</th>\n",
       "      <td>0</td>\n",
       "      <td>0</td>\n",
       "      <td>0</td>\n",
       "      <td>0</td>\n",
       "      <td>0</td>\n",
       "      <td>0</td>\n",
       "      <td>0</td>\n",
       "      <td>0</td>\n",
       "      <td>0</td>\n",
       "      <td>0</td>\n",
       "      <td>...</td>\n",
       "      <td>0</td>\n",
       "      <td>1</td>\n",
       "      <td>0</td>\n",
       "      <td>1</td>\n",
       "      <td>0</td>\n",
       "      <td>0</td>\n",
       "      <td>0</td>\n",
       "      <td>0</td>\n",
       "      <td>0</td>\n",
       "      <td>0</td>\n",
       "    </tr>\n",
       "    <tr>\n",
       "      <th>Bailey</th>\n",
       "      <td>0</td>\n",
       "      <td>0</td>\n",
       "      <td>0</td>\n",
       "      <td>0</td>\n",
       "      <td>0</td>\n",
       "      <td>0</td>\n",
       "      <td>1</td>\n",
       "      <td>0</td>\n",
       "      <td>0</td>\n",
       "      <td>0</td>\n",
       "      <td>...</td>\n",
       "      <td>0</td>\n",
       "      <td>0</td>\n",
       "      <td>0</td>\n",
       "      <td>0</td>\n",
       "      <td>0</td>\n",
       "      <td>0</td>\n",
       "      <td>0</td>\n",
       "      <td>1</td>\n",
       "      <td>0</td>\n",
       "      <td>0</td>\n",
       "    </tr>\n",
       "    <tr>\n",
       "      <th>Baker</th>\n",
       "      <td>0</td>\n",
       "      <td>0</td>\n",
       "      <td>0</td>\n",
       "      <td>0</td>\n",
       "      <td>0</td>\n",
       "      <td>0</td>\n",
       "      <td>1</td>\n",
       "      <td>0</td>\n",
       "      <td>0</td>\n",
       "      <td>1</td>\n",
       "      <td>...</td>\n",
       "      <td>0</td>\n",
       "      <td>0</td>\n",
       "      <td>0</td>\n",
       "      <td>0</td>\n",
       "      <td>0</td>\n",
       "      <td>0</td>\n",
       "      <td>0</td>\n",
       "      <td>0</td>\n",
       "      <td>1</td>\n",
       "      <td>0</td>\n",
       "    </tr>\n",
       "  </tbody>\n",
       "</table>\n",
       "<p>5 rows × 32 columns</p>\n",
       "</div>"
      ],
      "text/plain": [
       "offer_id       1   2   3   4   5   6   7   8   9   10 ...  23  24  25  26  27  \\\n",
       "customer_name                                         ...                       \n",
       "Adams           0   0   0   0   0   0   0   0   0   0 ...   0   0   0   0   0   \n",
       "Allen           0   0   0   0   0   0   0   0   1   0 ...   0   0   0   0   1   \n",
       "Anderson        0   0   0   0   0   0   0   0   0   0 ...   0   1   0   1   0   \n",
       "Bailey          0   0   0   0   0   0   1   0   0   0 ...   0   0   0   0   0   \n",
       "Baker           0   0   0   0   0   0   1   0   0   1 ...   0   0   0   0   0   \n",
       "\n",
       "offer_id       28  29  30  31  32  \n",
       "customer_name                      \n",
       "Adams           0   1   1   0   0  \n",
       "Allen           0   0   0   0   0  \n",
       "Anderson        0   0   0   0   0  \n",
       "Bailey          0   0   1   0   0  \n",
       "Baker           0   0   0   1   0  \n",
       "\n",
       "[5 rows x 32 columns]"
      ]
     },
     "execution_count": 99,
     "metadata": {},
     "output_type": "execute_result"
    }
   ],
   "source": [
    "pivot_cust_df.head()"
   ]
  },
  {
   "cell_type": "code",
   "execution_count": 102,
   "metadata": {},
   "outputs": [
    {
     "data": {
      "text/plain": [
       "Index(['Adams', 'Allen', 'Anderson', 'Bailey', 'Baker', 'Barnes', 'Bell',\n",
       "       'Bennett', 'Brooks', 'Brown', 'Butler', 'Campbell', 'Carter', 'Clark',\n",
       "       'Collins', 'Cook', 'Cooper', 'Cox', 'Cruz', 'Davis', 'Diaz', 'Edwards',\n",
       "       'Evans', 'Fisher', 'Flores', 'Foster', 'Garcia', 'Gomez', 'Gonzalez',\n",
       "       'Gray', 'Green', 'Gutierrez', 'Hall', 'Harris', 'Hernandez', 'Hill',\n",
       "       'Howard', 'Hughes', 'Jackson', 'James', 'Jenkins', 'Johnson', 'Jones',\n",
       "       'Kelly', 'King', 'Lee', 'Lewis', 'Long', 'Lopez', 'Martin', 'Martinez',\n",
       "       'Miller', 'Mitchell', 'Moore', 'Morales', 'Morgan', 'Morris', 'Murphy',\n",
       "       'Myers', 'Nelson', 'Nguyen', 'Ortiz', 'Parker', 'Perez', 'Perry',\n",
       "       'Peterson', 'Phillips', 'Powell', 'Price', 'Ramirez', 'Reed', 'Reyes',\n",
       "       'Richardson', 'Rivera', 'Roberts', 'Robinson', 'Rodriguez', 'Rogers',\n",
       "       'Ross', 'Russell', 'Sanchez', 'Sanders', 'Scott', 'Smith', 'Stewart',\n",
       "       'Sullivan', 'Taylor', 'Thomas', 'Thompson', 'Torres', 'Turner',\n",
       "       'Walker', 'Ward', 'Watson', 'White', 'Williams', 'Wilson', 'Wood',\n",
       "       'Wright', 'Young'],\n",
       "      dtype='object', name='customer_name')"
      ]
     },
     "execution_count": 102,
     "metadata": {},
     "output_type": "execute_result"
    }
   ],
   "source": [
    "pivot_cust_df.index"
   ]
  },
  {
   "cell_type": "code",
   "execution_count": 124,
   "metadata": {},
   "outputs": [
    {
     "data": {
      "text/html": [
       "<div>\n",
       "<style scoped>\n",
       "    .dataframe tbody tr th:only-of-type {\n",
       "        vertical-align: middle;\n",
       "    }\n",
       "\n",
       "    .dataframe tbody tr th {\n",
       "        vertical-align: top;\n",
       "    }\n",
       "\n",
       "    .dataframe thead th {\n",
       "        text-align: right;\n",
       "    }\n",
       "</style>\n",
       "<table border=\"1\" class=\"dataframe\">\n",
       "  <thead>\n",
       "    <tr style=\"text-align: right;\">\n",
       "      <th></th>\n",
       "      <th>x</th>\n",
       "      <th>y</th>\n",
       "    </tr>\n",
       "    <tr>\n",
       "      <th>customer_name</th>\n",
       "      <th></th>\n",
       "      <th></th>\n",
       "    </tr>\n",
       "  </thead>\n",
       "  <tbody>\n",
       "    <tr>\n",
       "      <th>Adams</th>\n",
       "      <td>1.007580</td>\n",
       "      <td>0.108215</td>\n",
       "    </tr>\n",
       "    <tr>\n",
       "      <th>Allen</th>\n",
       "      <td>-0.287539</td>\n",
       "      <td>0.044715</td>\n",
       "    </tr>\n",
       "    <tr>\n",
       "      <th>Anderson</th>\n",
       "      <td>-0.392032</td>\n",
       "      <td>1.038391</td>\n",
       "    </tr>\n",
       "    <tr>\n",
       "      <th>Bailey</th>\n",
       "      <td>0.699477</td>\n",
       "      <td>-0.022542</td>\n",
       "    </tr>\n",
       "    <tr>\n",
       "      <th>Baker</th>\n",
       "      <td>0.088183</td>\n",
       "      <td>-0.471695</td>\n",
       "    </tr>\n",
       "  </tbody>\n",
       "</table>\n",
       "</div>"
      ],
      "text/plain": [
       "                      x         y\n",
       "customer_name                    \n",
       "Adams          1.007580  0.108215\n",
       "Allen         -0.287539  0.044715\n",
       "Anderson      -0.392032  1.038391\n",
       "Bailey         0.699477 -0.022542\n",
       "Baker          0.088183 -0.471695"
      ]
     },
     "execution_count": 124,
     "metadata": {},
     "output_type": "execute_result"
    }
   ],
   "source": [
    "# Create a data frame with the following fields:\n",
    "# customer name\n",
    "# cluster id the customer belongs to\n",
    "# the two PCA components (label them `x` and `y`)\n",
    "pca_df = pd.DataFrame(data = X_pca, columns = ['x', 'y'], index=pivot_cust_df.index)\n",
    "pca_df.head()\n"
   ]
  },
  {
   "cell_type": "code",
   "execution_count": 164,
   "metadata": {},
   "outputs": [
    {
     "data": {
      "text/plain": [
       "<matplotlib.collections.PathCollection at 0x7fa6eda59a58>"
      ]
     },
     "execution_count": 164,
     "metadata": {},
     "output_type": "execute_result"
    },
    {
     "data": {
      "image/png": "[encoded data removed]",
      "text/plain": [
       "<Figure size 432x288 with 1 Axes>"
      ]
     },
     "metadata": {
      "needs_background": "light"
     },
     "output_type": "display_data"
    }
   ],
   "source": [
    "# do k means clustering on the dataset with 2 components\n",
    "# try with 4 clusters\n",
    "# Plot a scatterplot of the `x` vs `y` columns\n",
    "# Color-code points differently based on cluster ID\n",
    "# How do the clusters look?\n",
    "kmeans_pca = KMeans(n_clusters=4)\n",
    "kmeans_pca.fit_transform(pca_df)\n",
    "pca_df_with_cluster = pca_df.copy()\n",
    "pca_df_with_cluster['cluster_num'] = kmeans_pca.predict(pca_df)\n",
    "pca_df_with_cluster.head()\n",
    "plt.scatter(pca_df_with_cluster.x, pca_df_with_cluster.y, c=pca_df_with_cluster.cluster_num)\n"
   ]
  },
  {
   "cell_type": "code",
   "execution_count": 165,
   "metadata": {},
   "outputs": [
    {
     "data": {
      "text/plain": [
       "<matplotlib.collections.PathCollection at 0x7fa6edaa6dd8>"
      ]
     },
     "execution_count": 165,
     "metadata": {},
     "output_type": "execute_result"
    },
    {
     "data": {
      "image/png": "[encoded data removed]",
      "text/plain": [
       "<Figure size 432x288 with 1 Axes>"
      ]
     },
     "metadata": {
      "needs_background": "light"
     },
     "output_type": "display_data"
    }
   ],
   "source": [
    "# do k means clustering on the dataset with 2 components\n",
    "# try with 3 clusters\n",
    "# Plot a scatterplot of the `x` vs `y` columns\n",
    "# Color-code points differently based on cluster ID\n",
    "# How do the clusters look?\n",
    "kmeans_pca_3 = KMeans(n_clusters=3)\n",
    "kmeans_pca_3.fit_transform(pca_df)\n",
    "pca_df_with_cluster_3 = pca_df.copy()\n",
    "pca_df_with_cluster_3['cluster_num'] = kmeans_pca_3.predict(pca_df)\n",
    "pca_df_with_cluster_3.head()\n",
    "plt.scatter(pca_df_with_cluster_3.x, pca_df_with_cluster_3.y, c=pca_df_with_cluster_3.cluster_num)"
   ]
  },
  {
   "cell_type": "code",
   "execution_count": null,
   "metadata": {},
   "outputs": [],
   "source": [
    "# Based on what you see, what seems to be the best value for  K ? Moreover, which method of choosing\n",
    "# K  seems to have produced the optimal result visually?\n",
    "As per the above 2 plots, 4 clusters seem to work better "
   ]
  },
  {
   "cell_type": "code",
   "execution_count": 41,
   "metadata": {},
   "outputs": [],
   "source": [
    "# Exercise: Now look at both the original raw data about the offers and transactions and look at the fitted clusters.\n",
    "#     Tell a story about the clusters in context of the original data.\n",
    "#     For example, do the clusters correspond to wine variants or something else interesting?\n"
   ]
  },
  {
   "cell_type": "code",
   "execution_count": 27,
   "metadata": {},
   "outputs": [
    {
     "data": {
      "text/html": [
       "<div>\n",
       "<style scoped>\n",
       "    .dataframe tbody tr th:only-of-type {\n",
       "        vertical-align: middle;\n",
       "    }\n",
       "\n",
       "    .dataframe tbody tr th {\n",
       "        vertical-align: top;\n",
       "    }\n",
       "\n",
       "    .dataframe thead th {\n",
       "        text-align: right;\n",
       "    }\n",
       "</style>\n",
       "<table border=\"1\" class=\"dataframe\">\n",
       "  <thead>\n",
       "    <tr style=\"text-align: right;\">\n",
       "      <th></th>\n",
       "      <th>customer_name</th>\n",
       "      <th>offer_id</th>\n",
       "      <th>n</th>\n",
       "      <th>campaign</th>\n",
       "      <th>varietal</th>\n",
       "      <th>min_qty</th>\n",
       "      <th>discount</th>\n",
       "      <th>origin</th>\n",
       "      <th>past_peak</th>\n",
       "    </tr>\n",
       "  </thead>\n",
       "  <tbody>\n",
       "    <tr>\n",
       "      <th>0</th>\n",
       "      <td>Smith</td>\n",
       "      <td>2</td>\n",
       "      <td>1</td>\n",
       "      <td>January</td>\n",
       "      <td>Pinot Noir</td>\n",
       "      <td>72</td>\n",
       "      <td>17</td>\n",
       "      <td>France</td>\n",
       "      <td>False</td>\n",
       "    </tr>\n",
       "    <tr>\n",
       "      <th>1</th>\n",
       "      <td>Rodriguez</td>\n",
       "      <td>2</td>\n",
       "      <td>1</td>\n",
       "      <td>January</td>\n",
       "      <td>Pinot Noir</td>\n",
       "      <td>72</td>\n",
       "      <td>17</td>\n",
       "      <td>France</td>\n",
       "      <td>False</td>\n",
       "    </tr>\n",
       "    <tr>\n",
       "      <th>2</th>\n",
       "      <td>Martin</td>\n",
       "      <td>2</td>\n",
       "      <td>1</td>\n",
       "      <td>January</td>\n",
       "      <td>Pinot Noir</td>\n",
       "      <td>72</td>\n",
       "      <td>17</td>\n",
       "      <td>France</td>\n",
       "      <td>False</td>\n",
       "    </tr>\n",
       "    <tr>\n",
       "      <th>3</th>\n",
       "      <td>Jackson</td>\n",
       "      <td>2</td>\n",
       "      <td>1</td>\n",
       "      <td>January</td>\n",
       "      <td>Pinot Noir</td>\n",
       "      <td>72</td>\n",
       "      <td>17</td>\n",
       "      <td>France</td>\n",
       "      <td>False</td>\n",
       "    </tr>\n",
       "    <tr>\n",
       "      <th>4</th>\n",
       "      <td>Campbell</td>\n",
       "      <td>2</td>\n",
       "      <td>1</td>\n",
       "      <td>January</td>\n",
       "      <td>Pinot Noir</td>\n",
       "      <td>72</td>\n",
       "      <td>17</td>\n",
       "      <td>France</td>\n",
       "      <td>False</td>\n",
       "    </tr>\n",
       "  </tbody>\n",
       "</table>\n",
       "</div>"
      ],
      "text/plain": [
       "  customer_name  offer_id  n campaign    varietal  min_qty  discount  origin  \\\n",
       "0         Smith         2  1  January  Pinot Noir       72        17  France   \n",
       "1     Rodriguez         2  1  January  Pinot Noir       72        17  France   \n",
       "2        Martin         2  1  January  Pinot Noir       72        17  France   \n",
       "3       Jackson         2  1  January  Pinot Noir       72        17  France   \n",
       "4      Campbell         2  1  January  Pinot Noir       72        17  France   \n",
       "\n",
       "   past_peak  \n",
       "0      False  \n",
       "1      False  \n",
       "2      False  \n",
       "3      False  \n",
       "4      False  "
      ]
     },
     "execution_count": 27,
     "metadata": {},
     "output_type": "execute_result"
    }
   ],
   "source": [
    "# look at original df with customer and transactions\n",
    "cust_transaction_df.head()"
   ]
  },
  {
   "cell_type": "code",
   "execution_count": 38,
   "metadata": {},
   "outputs": [
    {
     "data": {
      "text/plain": [
       "varietal\n",
       "Champagne             81\n",
       "Pinot Noir            44\n",
       "Prosecco              43\n",
       "Espumante             40\n",
       "Cabernet Sauvignon    32\n",
       "Malbec                32\n",
       "Merlot                20\n",
       "Pinot Grigio          17\n",
       "Chardonnay            15\n",
       "dtype: int64"
      ]
     },
     "execution_count": 38,
     "metadata": {},
     "output_type": "execute_result"
    }
   ],
   "source": [
    "# we can group by wine variants and find count of transactions\n",
    "cust_transaction_df.groupby('varietal').size().nlargest(10)"
   ]
  },
  {
   "cell_type": "code",
   "execution_count": null,
   "metadata": {},
   "outputs": [],
   "source": [
    "Based on the wine variants, we can see potential for data to be split into 4 clusters\n",
    "cluster 1 : Champagne\n",
    "cluster 2 : Pinot Noir, Prosecco, Espumante \n",
    "cluster 3 : Cabernet Sauvignon,Malbec    \n",
    "cluster 4 : Merlot  ,Pinot Grigio ,Chardonnay"
   ]
  },
  {
   "cell_type": "code",
   "execution_count": null,
   "metadata": {},
   "outputs": [],
   "source": []
  },
  {
   "cell_type": "markdown",
   "metadata": {},
   "source": [
    "What we've done is we've taken those columns of 0/1 indicator variables, and we've transformed them into a 2-D dataset. We took one column and arbitrarily called it `x` and then called the other `y`. Now we can throw each point into a scatterplot. We color coded each point based on it's cluster so it's easier to see them."
   ]
  },
  {
   "cell_type": "markdown",
   "metadata": {},
   "source": [
    "<div class=\"span5 alert alert-info\">\n",
    "<h3>Exercise Set V</h3>\n",
    "\n",
    "<p>As we saw earlier, PCA has a lot of other uses. Since we wanted to visualize our data in 2 dimensions, restricted the number of dimensions to 2 in PCA. But what is the true optimal number of dimensions?</p>\n",
    "\n",
    "<p><b>Exercise:</b> Using a new PCA object shown in the next cell, plot the `explained_variance_` field and look for the elbow point, the point where the curve's rate of descent seems to slow sharply. This value is one possible value for the optimal number of dimensions. What is it?</p>\n",
    "</div>"
   ]
  },
  {
   "cell_type": "code",
   "execution_count": 183,
   "metadata": {},
   "outputs": [
    {
     "data": {
      "image/png": "[encoded data removed]",
      "text/plain": [
       "<Figure size 864x864 with 1 Axes>"
      ]
     },
     "metadata": {
      "needs_background": "light"
     },
     "output_type": "display_data"
    }
   ],
   "source": [
    "#your turn\n",
    "# Initialize a new PCA model with a default number of components.\n",
    "import sklearn.decomposition\n",
    "var_arr = []\n",
    "for i in range(1,32):\n",
    "    pca = sklearn.decomposition.PCA(n_components=i)\n",
    "    pca.fit(X_cols)\n",
    "    var_arr.append(pca.explained_variance_[-1])\n",
    "\n",
    "# Do the rest on your own :)\n",
    "plt.figure(1, figsize=(12, 12))\n",
    "plt.plot(var_arr)\n",
    "plt.xticks(range(0,30,1))\n",
    "plt.show()\n",
    "# Using a new PCA object shown in the next cell, plot the `explained_variance_` field \n",
    "# and look for the elbow point, the point where the curve's rate of descent seems to slow sharply. \n",
    "# This value is one possible value for the optimal number of dimensions. What is it?"
   ]
  },
  {
   "cell_type": "code",
   "execution_count": null,
   "metadata": {},
   "outputs": [],
   "source": [
    "# and look for the elbow point, the point where the curve's rate of descent seems to slow sharply. \n",
    "# This value is one possible value for the optimal number of dimensions. What is it?\n",
    "As per the above plot, the rate of descent seems to slow sharply between 5 and 6.\n",
    "This suggests that, Optimal number of dimensions = 5 or 6."
   ]
  },
  {
   "cell_type": "markdown",
   "metadata": {},
   "source": [
    "## Other Clustering Algorithms\n",
    "\n",
    "k-means is only one of a ton of clustering algorithms. Below is a brief description of several clustering algorithms, and the table provides references to the other clustering algorithms in scikit-learn. \n",
    "\n",
    "* **Affinity Propagation** does not require the number of clusters $K$ to be known in advance! AP uses a \"message passing\" paradigm to cluster points based on their similarity. \n",
    "\n",
    "* **Spectral Clustering** uses the eigenvalues of a similarity matrix to reduce the dimensionality of the data before clustering in a lower dimensional space. This is tangentially similar to what we did to visualize k-means clusters using PCA. The number of clusters must be known a priori.\n",
    "\n",
    "* **Ward's Method** applies to hierarchical clustering. Hierarchical clustering algorithms take a set of data and successively divide the observations into more and more clusters at each layer of the hierarchy. Ward's method is used to determine when two clusters in the hierarchy should be combined into one. It is basically an extension of hierarchical clustering. Hierarchical clustering is *divisive*, that is, all observations are part of the same cluster at first, and at each successive iteration, the clusters are made smaller and smaller. With hierarchical clustering, a hierarchy is constructed, and there is not really the concept of \"number of clusters.\" The number of clusters simply determines how low or how high in the hierarchy we reference and can be determined empirically or by looking at the [dendogram](https://docs.scipy.org/doc/scipy-0.18.1/reference/generated/scipy.cluster.hierarchy.dendrogram.html).\n",
    "\n",
    "* **Agglomerative Clustering** is similar to hierarchical clustering but but is not divisive, it is *agglomerative*. That is, every observation is placed into its own cluster and at each iteration or level or the hierarchy, observations are merged into fewer and fewer clusters until convergence. Similar to hierarchical clustering, the constructed hierarchy contains all possible numbers of clusters and it is up to the analyst to pick the number by reviewing statistics or the dendogram.\n",
    "\n",
    "* **DBSCAN** is based on point density rather than distance. It groups together points with many nearby neighbors. DBSCAN is one of the most cited algorithms in the literature. It does not require knowing the number of clusters a priori, but does require specifying the neighborhood size."
   ]
  },
  {
   "cell_type": "markdown",
   "metadata": {},
   "source": [
    "### Clustering Algorithms in Scikit-learn\n",
    "<table border=\"1\">\n",
    "<colgroup>\n",
    "<col width=\"15%\" />\n",
    "<col width=\"16%\" />\n",
    "<col width=\"20%\" />\n",
    "<col width=\"27%\" />\n",
    "<col width=\"22%\" />\n",
    "</colgroup>\n",
    "<thead valign=\"bottom\">\n",
    "<tr><th>Method name</th>\n",
    "<th>Parameters</th>\n",
    "<th>Scalability</th>\n",
    "<th>Use Case</th>\n",
    "<th>Geometry (metric used)</th>\n",
    "</tr>\n",
    "</thead>\n",
    "<tbody valign=\"top\">\n",
    "<tr><td>K-Means</span></a></td>\n",
    "<td>number of clusters</td>\n",
    "<td>Very large<span class=\"pre\">n_samples</span>, medium <span class=\"pre\">n_clusters</span> with\n",
    "MiniBatch code</td>\n",
    "<td>General-purpose, even cluster size, flat geometry, not too many clusters</td>\n",
    "<td>Distances between points</td>\n",
    "</tr>\n",
    "<tr><td>Affinity propagation</td>\n",
    "<td>damping, sample preference</td>\n",
    "<td>Not scalable with n_samples</td>\n",
    "<td>Many clusters, uneven cluster size, non-flat geometry</td>\n",
    "<td>Graph distance (e.g. nearest-neighbor graph)</td>\n",
    "</tr>\n",
    "<tr><td>Mean-shift</td>\n",
    "<td>bandwidth</td>\n",
    "<td>Not scalable with <span class=\"pre\">n_samples</span></td>\n",
    "<td>Many clusters, uneven cluster size, non-flat geometry</td>\n",
    "<td>Distances between points</td>\n",
    "</tr>\n",
    "<tr><td>Spectral clustering</td>\n",
    "<td>number of clusters</td>\n",
    "<td>Medium <span class=\"pre\">n_samples</span>, small <span class=\"pre\">n_clusters</span></td>\n",
    "<td>Few clusters, even cluster size, non-flat geometry</td>\n",
    "<td>Graph distance (e.g. nearest-neighbor graph)</td>\n",
    "</tr>\n",
    "<tr><td>Ward hierarchical clustering</td>\n",
    "<td>number of clusters</td>\n",
    "<td>Large <span class=\"pre\">n_samples</span> and <span class=\"pre\">n_clusters</span></td>\n",
    "<td>Many clusters, possibly connectivity constraints</td>\n",
    "<td>Distances between points</td>\n",
    "</tr>\n",
    "<tr><td>Agglomerative clustering</td>\n",
    "<td>number of clusters, linkage type, distance</td>\n",
    "<td>Large <span class=\"pre\">n_samples</span> and <span class=\"pre\">n_clusters</span></td>\n",
    "<td>Many clusters, possibly connectivity constraints, non Euclidean\n",
    "distances</td>\n",
    "<td>Any pairwise distance</td>\n",
    "</tr>\n",
    "<tr><td>DBSCAN</td>\n",
    "<td>neighborhood size</td>\n",
    "<td>Very large <span class=\"pre\">n_samples</span>, medium <span class=\"pre\">n_clusters</span></td>\n",
    "<td>Non-flat geometry, uneven cluster sizes</td>\n",
    "<td>Distances between nearest points</td>\n",
    "</tr>\n",
    "<tr><td>Gaussian mixtures</td>\n",
    "<td>many</td>\n",
    "<td>Not scalable</td>\n",
    "<td>Flat geometry, good for density estimation</td>\n",
    "<td>Mahalanobis distances to  centers</td>\n",
    "</tr>\n",
    "<tr><td>Birch</td>\n",
    "<td>branching factor, threshold, optional global clusterer.</td>\n",
    "<td>Large <span class=\"pre\">n_clusters</span> and <span class=\"pre\">n_samples</span></td>\n",
    "<td>Large dataset, outlier removal, data reduction.</td>\n",
    "<td>Euclidean distance between points</td>\n",
    "</tr>\n",
    "</tbody>\n",
    "</table>\n",
    "Source: http://scikit-learn.org/stable/modules/clustering.html"
   ]
  },
  {
   "cell_type": "markdown",
   "metadata": {},
   "source": [
    "<div class=\"span5 alert alert-info\">\n",
    "<h3>Exercise Set VI</h3>\n",
    "\n",
    "<p><b>Exercise:</b> Try clustering using the following algorithms. </p>\n",
    "<ol>\n",
    "<li>Affinity propagation\n",
    "<li>Spectral clustering\n",
    "<li>Agglomerative clustering\n",
    "<li>DBSCAN\n",
    "</ol>\n",
    "<p>How do their results compare? Which performs the best? Tell a story why you think it performs the best.</p>\n",
    "</div>\n"
   ]
  },
  {
   "cell_type": "code",
   "execution_count": 196,
   "metadata": {},
   "outputs": [
    {
     "name": "stdout",
     "output_type": "stream",
     "text": [
      "Estimated number of clusters: 9\n"
     ]
    }
   ],
   "source": [
    "# Your turn\n",
    "#1.Affinity propagation on all features\n",
    "from sklearn.datasets import make_blobs\n",
    "from sklearn.cluster import AffinityPropagation\n",
    "af = AffinityPropagation(preference=-10).fit(X_cols)\n",
    "cluster_centers_indices = af.cluster_centers_indices_\n",
    "labels = af.labels_\n",
    "\n",
    "n_clusters_ = len(cluster_centers_indices)\n",
    "\n",
    "print(\"Estimated number of clusters: %d\" % n_clusters_)"
   ]
  },
  {
   "cell_type": "code",
   "execution_count": 211,
   "metadata": {},
   "outputs": [
    {
     "data": {
      "image/png": "[encoded data removed]",
      "text/plain": [
       "<Figure size 432x288 with 1 Axes>"
      ]
     },
     "metadata": {
      "needs_background": "light"
     },
     "output_type": "display_data"
    }
   ],
   "source": [
    "#1.Affinity propagation on dimension reduced dataset\n",
    "from sklearn.decomposition import PCA\n",
    "af_pca = PCA(n_components=2)\n",
    "af_pca.fit(X_cols)\n",
    "af_X_pca = af_pca.transform(X_cols)\n",
    "\n",
    "af_pca_df = pd.DataFrame(data = af_X_pca, columns = ['x', 'y'], index=pivot_cust_df.index)\n",
    "af_pca_df.head()\n",
    "\n",
    "af_reduced = AffinityPropagation(preference=-10).fit(af_pca_df)\n",
    "\n",
    "af_pca_df_with_cluster = af_pca_df.copy()\n",
    "af_pca_df_with_cluster['cluster_num'] = af_reduced.predict(af_pca_df)\n",
    "af_pca_df_with_cluster.head()\n",
    "plt.scatter(af_pca_df_with_cluster.x, af_pca_df_with_cluster.y, c=af_pca_df_with_cluster.cluster_num)\n",
    "plt.show()\n"
   ]
  },
  {
   "cell_type": "code",
   "execution_count": 206,
   "metadata": {},
   "outputs": [
    {
     "data": {
      "text/plain": [
       "array([1, 0, 2, 1, 3, 3, 2, 1, 0, 1, 3, 2, 1, 0, 1, 2, 0, 2, 1, 0, 1, 0,\n",
       "       0, 3, 2, 3, 3, 0, 3, 0, 0, 1, 0, 0, 1, 1, 0, 1, 0, 1, 2, 2, 0, 0,\n",
       "       1, 0, 1, 1, 0, 0, 0, 3, 3, 2, 0, 1, 2, 0, 1, 0, 3, 0, 0, 1, 1, 3,\n",
       "       2, 3, 3, 3, 3, 3, 0, 1, 3, 1, 2, 0, 1, 3, 3, 3, 3, 2, 1, 1, 1, 3,\n",
       "       3, 0, 0, 1, 3, 1, 3, 3, 1, 3, 0, 3], dtype=int32)"
      ]
     },
     "execution_count": 206,
     "metadata": {},
     "output_type": "execute_result"
    }
   ],
   "source": [
    "#1.SpectralClustering on all features\n",
    "from sklearn.cluster import SpectralClustering\n",
    "\n",
    "spectral = SpectralClustering(n_clusters=4,affinity=\"nearest_neighbors\")\n",
    "spectral.fit(X_cols)\n",
    "\n",
    "labels = spectral.labels_\n",
    "labels\n",
    "  "
   ]
  },
  {
   "cell_type": "code",
   "execution_count": 224,
   "metadata": {},
   "outputs": [
    {
     "data": {
      "text/plain": [
       "<bound method BaseEstimator.get_params of SpectralClustering(affinity='nearest_neighbors', assign_labels='kmeans',\n",
       "                   coef0=1, degree=3, eigen_solver=None, eigen_tol=0.0,\n",
       "                   gamma=1.0, kernel_params=None, n_clusters=4,\n",
       "                   n_components=None, n_init=10, n_jobs=None, n_neighbors=10,\n",
       "                   random_state=None)>"
      ]
     },
     "execution_count": 224,
     "metadata": {},
     "output_type": "execute_result"
    }
   ],
   "source": [
    "spectral.get_params"
   ]
  },
  {
   "cell_type": "code",
   "execution_count": 223,
   "metadata": {},
   "outputs": [
    {
     "name": "stderr",
     "output_type": "stream",
     "text": [
      "/Users/Anusha/anaconda3/lib/python3.7/site-packages/sklearn/manifold/_spectral_embedding.py:236: UserWarning: Graph is not fully connected, spectral embedding may not work as expected.\n",
      "  warnings.warn(\"Graph is not fully connected, spectral embedding\"\n",
      "/Users/Anusha/anaconda3/lib/python3.7/site-packages/sklearn/manifold/_spectral_embedding.py:236: UserWarning: Graph is not fully connected, spectral embedding may not work as expected.\n",
      "  warnings.warn(\"Graph is not fully connected, spectral embedding\"\n"
     ]
    },
    {
     "data": {
      "image/png": "[encoded data removed]",
      "text/plain": [
       "<Figure size 432x288 with 1 Axes>"
      ]
     },
     "metadata": {
      "needs_background": "light"
     },
     "output_type": "display_data"
    }
   ],
   "source": [
    "#2.SpectralClustering on dimension reduced dataset\n",
    "sc_pca = PCA(n_components=2)\n",
    "sc_pca.fit(X_cols)\n",
    "sc_X_pca = sc_pca.transform(X_cols)\n",
    "\n",
    "sc_pca_df = pd.DataFrame(data = sc_X_pca, columns = ['x', 'y'], index=pivot_cust_df.index)\n",
    "sc_pca_df.head()\n",
    "\n",
    "sc_reduced = SpectralClustering(n_clusters=4,affinity=\"nearest_neighbors\").fit(sc_pca_df)\n",
    "\n",
    "sc_pca_df_with_cluster = sc_pca_df.copy()\n",
    "sc_pca_df_with_cluster['cluster_num'] = sc_reduced.fit_predict(sc_pca_df)\n",
    "sc_pca_df_with_cluster.head()\n",
    "plt.scatter(sc_pca_df_with_cluster.x, sc_pca_df_with_cluster.y, c=sc_pca_df_with_cluster.cluster_num)\n",
    "plt.show()\n"
   ]
  },
  {
   "cell_type": "code",
   "execution_count": 226,
   "metadata": {},
   "outputs": [
    {
     "data": {
      "text/plain": [
       "AgglomerativeClustering(affinity='euclidean', compute_full_tree='auto',\n",
       "                        connectivity=None, distance_threshold=None,\n",
       "                        linkage='ward', memory=None, n_clusters=2)"
      ]
     },
     "execution_count": 226,
     "metadata": {},
     "output_type": "execute_result"
    }
   ],
   "source": [
    "#3.Agglomerative clustering on all features\n",
    "from sklearn.cluster import AgglomerativeClustering\n",
    "agglomerative = AgglomerativeClustering()\n",
    "agglomerative.fit(X_cols)\n"
   ]
  },
  {
   "cell_type": "code",
   "execution_count": 228,
   "metadata": {},
   "outputs": [
    {
     "data": {
      "image/png": "[encoded data removed]",
      "text/plain": [
       "<Figure size 432x288 with 1 Axes>"
      ]
     },
     "metadata": {
      "needs_background": "light"
     },
     "output_type": "display_data"
    }
   ],
   "source": [
    "#3.Agglomerative on dimension reduced dataset\n",
    "agg_pca = PCA(n_components=2)\n",
    "agg_pca.fit(X_cols)\n",
    "agg_X_pca = agg_pca.transform(X_cols)\n",
    "\n",
    "agg_pca_df = pd.DataFrame(data = agg_X_pca, columns = ['x', 'y'], index=pivot_cust_df.index)\n",
    "agg_pca_df.head()\n",
    "\n",
    "agg_reduced = AgglomerativeClustering(n_clusters=4).fit(agg_pca_df)\n",
    "\n",
    "agg_pca_df_with_cluster = agg_pca_df.copy()\n",
    "agg_pca_df_with_cluster['cluster_num'] = agg_reduced.fit_predict(agg_pca_df)\n",
    "agg_pca_df_with_cluster.head()\n",
    "plt.scatter(agg_pca_df_with_cluster.x, agg_pca_df_with_cluster.y, c=agg_pca_df_with_cluster.cluster_num)\n",
    "plt.show()\n"
   ]
  },
  {
   "cell_type": "code",
   "execution_count": 234,
   "metadata": {},
   "outputs": [
    {
     "data": {
      "text/plain": [
       "DBSCAN(algorithm='auto', eps=0.1, leaf_size=30, metric='euclidean',\n",
       "       metric_params=None, min_samples=5, n_jobs=None, p=None)"
      ]
     },
     "execution_count": 234,
     "metadata": {},
     "output_type": "execute_result"
    }
   ],
   "source": [
    "#4.DBSCAN on on all features\n",
    "\n",
    "from sklearn.cluster import DBSCAN\n",
    "dbscan = DBSCAN(eps=0.1, min_samples=5)\n",
    "dbscan.fit(X_cols)"
   ]
  },
  {
   "cell_type": "code",
   "execution_count": 245,
   "metadata": {},
   "outputs": [
    {
     "data": {
      "image/png": "[encoded data removed]",
      "text/plain": [
       "<Figure size 432x288 with 1 Axes>"
      ]
     },
     "metadata": {
      "needs_background": "light"
     },
     "output_type": "display_data"
    }
   ],
   "source": [
    "#4.DBSCAN on dimension reduced dataset\n",
    "dbscan_pca = PCA(n_components=2)\n",
    "dbscan_pca.fit(X_cols)\n",
    "dbscan_X_pca = dbscan_pca.transform(X_cols)\n",
    "\n",
    "dbscan_pca_df = pd.DataFrame(data = dbscan_X_pca, columns = ['x', 'y'], index=pivot_cust_df.index)\n",
    "dbscan_pca_df.head()\n",
    "\n",
    "dbscan_reduced = DBSCAN(eps=0.15, min_samples=5).fit(dbscan_pca_df)\n",
    "\n",
    "dbscan_pca_df_with_cluster = dbscan_pca_df.copy()\n",
    "dbscan_pca_df_with_cluster['cluster_num'] = dbscan_reduced.fit_predict(dbscan_pca_df)\n",
    "dbscan_pca_df_with_cluster.head()\n",
    "plt.scatter(dbscan_pca_df_with_cluster.x, dbscan_pca_df_with_cluster.y, c=dbscan_pca_df_with_cluster.cluster_num)\n",
    "plt.show()\n"
   ]
  },
  {
   "cell_type": "code",
   "execution_count": null,
   "metadata": {},
   "outputs": [],
   "source": [
    "# How do their results compare? Which performs the best? Tell a story why you think it performs the best.\n",
    "\n",
    "Agglomerative does best with 4 clusters. Its able to cluster the dark purple/pink points better\n",
    "SpectralClustering does the second best with 4 clusters\n",
    "Affinity propagation also varies a lot based on the preference values.\n",
    "DBSCAN does not work well as it seems to produce many overlapping clusters.\n"
   ]
  }
 ],
 "metadata": {
  "anaconda-cloud": {},
  "kernelspec": {
   "display_name": "Python 3",
   "language": "python",
   "name": "python3"
  },
  "language_info": {
   "codemirror_mode": {
    "name": "ipython",
    "version": 3
   },
   "file_extension": ".py",
   "mimetype": "text/x-python",
   "name": "python",
   "nbconvert_exporter": "python",
   "pygments_lexer": "ipython3",
   "version": "3.7.2"
  }
 },
 "nbformat": 4,
 "nbformat_minor": 1
}
